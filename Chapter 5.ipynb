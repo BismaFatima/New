{
 "cells": [
  {
   "cell_type": "markdown",
   "id": "729eb466",
   "metadata": {},
   "source": [
    "# Loops and Iteration\n"
   ]
  },
  {
   "cell_type": "code",
   "execution_count": 1,
   "id": "92eb7ed2",
   "metadata": {},
   "outputs": [
    {
     "name": "stdout",
     "output_type": "stream",
     "text": [
      "Dry off!\n"
     ]
    }
   ],
   "source": [
    "n= 0\n",
    "while n > 0 :\n",
    "    print('Lather')\n",
    "    print('Rinse')\n",
    "print('Dry off!')"
   ]
  },
  {
   "cell_type": "markdown",
   "id": "bba46209",
   "metadata": {},
   "source": [
    "# Breaking out of a loop"
   ]
  },
  {
   "cell_type": "code",
   "execution_count": 2,
   "id": "023d6be4",
   "metadata": {},
   "outputs": [
    {
     "name": "stdout",
     "output_type": "stream",
     "text": [
      "> done\n",
      "Done!\n"
     ]
    }
   ],
   "source": [
    "while True:\n",
    "    line = input('> ')\n",
    "    if line == 'done' :\n",
    "        break\n",
    "    print(line)\n",
    "print('Done!')"
   ]
  },
  {
   "cell_type": "markdown",
   "id": "0b83af14",
   "metadata": {},
   "source": [
    "# Continue"
   ]
  },
  {
   "cell_type": "code",
   "execution_count": 10,
   "id": "021d6e46",
   "metadata": {
    "scrolled": true
   },
   "outputs": [
    {
     "name": "stdout",
     "output_type": "stream",
     "text": [
      "> done\n",
      "Done!\n"
     ]
    }
   ],
   "source": [
    "while True:\n",
    "    line = input('> ')\n",
    "    if line[0] == '#' :\n",
    "        continue\n",
    "    if line == 'done' :\n",
    "        break\n",
    "    print(line)\n",
    "print('Done!')"
   ]
  },
  {
   "cell_type": "markdown",
   "id": "e115863c",
   "metadata": {},
   "source": [
    "# Definite Loop"
   ]
  },
  {
   "cell_type": "code",
   "execution_count": 11,
   "id": "d78fd1dd",
   "metadata": {},
   "outputs": [
    {
     "name": "stdout",
     "output_type": "stream",
     "text": [
      "Happy New Year: Joseph\n",
      "Happy New Year: Glenn\n",
      "Happy New Year: Sally\n",
      "Done!\n"
     ]
    }
   ],
   "source": [
    "friends = ['Joseph', 'Glenn', 'Sally']\n",
    "for friend in friends : \n",
    "    print('Happy New Year:', friend)\n",
    "print('Done!')"
   ]
  },
  {
   "cell_type": "markdown",
   "id": "e88113fe",
   "metadata": {},
   "source": [
    "# In\n"
   ]
  },
  {
   "cell_type": "code",
   "execution_count": 12,
   "id": "3d7a84e6",
   "metadata": {},
   "outputs": [
    {
     "name": "stdout",
     "output_type": "stream",
     "text": [
      "1\n",
      "2\n",
      "3\n",
      "4\n",
      "5\n"
     ]
    }
   ],
   "source": [
    "for i in [1 , 2, 3 , 4, 5]:\n",
    "    print(i)"
   ]
  },
  {
   "cell_type": "markdown",
   "id": "8009f465",
   "metadata": {},
   "source": [
    "# Looping through a set\n"
   ]
  },
  {
   "cell_type": "code",
   "execution_count": 13,
   "id": "353eb0c1",
   "metadata": {},
   "outputs": [
    {
     "name": "stdout",
     "output_type": "stream",
     "text": [
      "Before\n",
      "1\n",
      "5\n",
      "6\n",
      "86\n",
      "3\n",
      "6\n",
      "After\n"
     ]
    }
   ],
   "source": [
    "print(\"Before\")\n",
    "for num in [1,5,6,86,3,6]:\n",
    "    print(num)\n",
    "print(\"After\")"
   ]
  },
  {
   "cell_type": "markdown",
   "id": "7134dd1d",
   "metadata": {},
   "source": [
    "# Largest value"
   ]
  },
  {
   "cell_type": "code",
   "execution_count": 16,
   "id": "f9de70bd",
   "metadata": {},
   "outputs": [
    {
     "name": "stdout",
     "output_type": "stream",
     "text": [
      "Before -1\n",
      "4 4\n",
      "64 64\n",
      "64 64\n",
      "98 98\n",
      "98 5\n",
      "98 35\n",
      "367 367\n",
      "367 67\n",
      "367 4\n",
      "367 After\n"
     ]
    }
   ],
   "source": [
    "largest=-1\n",
    "print(\"Before\" , largest)\n",
    "for num in [4,64,64,98,5,35,367,67,4]:\n",
    "    if num > largest:\n",
    "        largest = num\n",
    "    print(largest, num)\n",
    "print(largest, \"After\")"
   ]
  },
  {
   "cell_type": "markdown",
   "id": "6486c60f",
   "metadata": {},
   "source": [
    "# Summing"
   ]
  },
  {
   "cell_type": "code",
   "execution_count": 17,
   "id": "342188b1",
   "metadata": {},
   "outputs": [
    {
     "name": "stdout",
     "output_type": "stream",
     "text": [
      "Before 0\n",
      "9 9\n",
      "50 41\n",
      "62 12\n",
      "65 3\n",
      "139 74\n",
      "154 15\n",
      "After 154\n"
     ]
    }
   ],
   "source": [
    "zork = 0\n",
    "print('Before', zork)\n",
    "for thing in [9, 41, 12, 3, 74, 15] : \n",
    "    zork = zork + thing\n",
    "    print(zork, thing)\n",
    "print('After', zork)"
   ]
  },
  {
   "cell_type": "markdown",
   "id": "0f692c2d",
   "metadata": {},
   "source": [
    "# Counting"
   ]
  },
  {
   "cell_type": "code",
   "execution_count": 18,
   "id": "f75d4c72",
   "metadata": {},
   "outputs": [
    {
     "name": "stdout",
     "output_type": "stream",
     "text": [
      "Before 0\n",
      "1 9\n",
      "2 41\n",
      "3 12\n",
      "4 3\n",
      "5 74\n",
      "6 15\n",
      "After 6\n"
     ]
    }
   ],
   "source": [
    "zork = 0\n",
    "print('Before', zork)\n",
    "for thing in [9, 41, 12, 3, 74, 15] :\n",
    "    zork = zork + 1\n",
    "    print(zork, thing)\n",
    "print('After', zork)"
   ]
  },
  {
   "cell_type": "markdown",
   "id": "d20a9068",
   "metadata": {},
   "source": [
    "# Average"
   ]
  },
  {
   "cell_type": "code",
   "execution_count": 19,
   "id": "1de8efa8",
   "metadata": {},
   "outputs": [
    {
     "name": "stdout",
     "output_type": "stream",
     "text": [
      "Before 0 0\n",
      "1 9 9\n",
      "2 50 41\n",
      "3 62 12\n",
      "4 65 3\n",
      "5 139 74\n",
      "6 154 15\n",
      "After 6 154 25.666666666666668\n"
     ]
    }
   ],
   "source": [
    "count = 0\n",
    "sum = 0\n",
    "print('Before', count, sum)\n",
    "for value in [9, 41, 12, 3, 74, 15] :\n",
    "    count = count + 1\n",
    "    sum = sum + value\n",
    "    print(count, sum, value)\n",
    "print('After', count, sum, sum / count)"
   ]
  },
  {
   "cell_type": "markdown",
   "id": "d4ba3293",
   "metadata": {},
   "source": [
    "# Filtering"
   ]
  },
  {
   "cell_type": "code",
   "execution_count": 20,
   "id": "ffd5437e",
   "metadata": {},
   "outputs": [
    {
     "name": "stdout",
     "output_type": "stream",
     "text": [
      "Before\n",
      "Large number 41\n",
      "Large number 74\n",
      "After\n"
     ]
    }
   ],
   "source": [
    "print('Before')\n",
    "for value in [9, 41, 12, 3, 74, 15] :\n",
    "    if value > 20:\n",
    "        print('Large number',value)\n",
    "print('After')"
   ]
  },
  {
   "cell_type": "markdown",
   "id": "d721bad8",
   "metadata": {},
   "source": [
    "# Search Using a Boolean Variable"
   ]
  },
  {
   "cell_type": "code",
   "execution_count": 21,
   "id": "0786cf27",
   "metadata": {},
   "outputs": [
    {
     "name": "stdout",
     "output_type": "stream",
     "text": [
      "Before False\n",
      "False 9\n",
      "False 41\n",
      "False 12\n",
      "True 3\n",
      "True 74\n",
      "True 15\n",
      "After True\n"
     ]
    }
   ],
   "source": [
    "found = False\n",
    "print('Before', found)\n",
    "for value in [9, 41, 12, 3, 74, 15] : \n",
    "    if value == 3 :\n",
    "        found = True\n",
    "    print(found, value)\n",
    "print('After', found)"
   ]
  },
  {
   "cell_type": "markdown",
   "id": "028527bd",
   "metadata": {},
   "source": [
    "# Smallest Value"
   ]
  },
  {
   "cell_type": "code",
   "execution_count": 22,
   "id": "540857bc",
   "metadata": {},
   "outputs": [
    {
     "name": "stdout",
     "output_type": "stream",
     "text": [
      "Before\n",
      "9 9\n",
      "9 41\n",
      "9 12\n",
      "3 3\n",
      "3 74\n",
      "3 15\n",
      "After 3\n"
     ]
    }
   ],
   "source": [
    "smallest = None\n",
    "print('Before')\n",
    "for value in [9, 41, 12, 3, 74, 15] :\n",
    "    if smallest is None : \n",
    "        smallest = value\n",
    "    elif value < smallest : \n",
    "        smallest = value\n",
    "    print(smallest, value)\n",
    "print('After', smallest)"
   ]
  },
  {
   "cell_type": "markdown",
   "id": "910d984f",
   "metadata": {},
   "source": [
    "# Is and Is not"
   ]
  },
  {
   "cell_type": "code",
   "execution_count": 23,
   "id": "b1db1259",
   "metadata": {},
   "outputs": [
    {
     "name": "stdout",
     "output_type": "stream",
     "text": [
      "Before\n",
      "9 9\n",
      "9 41\n",
      "9 12\n",
      "3 3\n",
      "3 74\n",
      "3 15\n",
      "After 3\n"
     ]
    }
   ],
   "source": [
    "smallest = None\n",
    "print('Before')\n",
    "for value in [9, 41, 12, 3, 74, 15] :\n",
    "    if smallest is None : \n",
    "        smallest = value\n",
    "    elif value < smallest : \n",
    "        smallest = value\n",
    "    print(smallest, value)\n",
    "print('After', smallest)"
   ]
  },
  {
   "cell_type": "code",
   "execution_count": null,
   "id": "dc6ee02c",
   "metadata": {},
   "outputs": [],
   "source": []
  }
 ],
 "metadata": {
  "kernelspec": {
   "display_name": "Python 3 (ipykernel)",
   "language": "python",
   "name": "python3"
  },
  "language_info": {
   "codemirror_mode": {
    "name": "ipython",
    "version": 3
   },
   "file_extension": ".py",
   "mimetype": "text/x-python",
   "name": "python",
   "nbconvert_exporter": "python",
   "pygments_lexer": "ipython3",
   "version": "3.11.4"
  }
 },
 "nbformat": 4,
 "nbformat_minor": 5
}
