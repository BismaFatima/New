{
 "cells": [
  {
   "cell_type": "markdown",
   "id": "9c5c3f2f",
   "metadata": {},
   "source": [
    "# Conditional Execution\n"
   ]
  },
  {
   "cell_type": "code",
   "execution_count": 2,
   "id": "8d8567a9",
   "metadata": {},
   "outputs": [
    {
     "name": "stdout",
     "output_type": "stream",
     "text": [
      "Equals 5\n",
      "Greater than 4\n",
      "Greater than or Equals 5\n",
      "Less than 6\n",
      "Less than or Equals 5\n",
      "Not equal 6\n"
     ]
    }
   ],
   "source": [
    "x = 5\n",
    "if x == 5 : \n",
    "    print('Equals 5')\n",
    "if x > 4 : \n",
    "    print('Greater than 4')\n",
    "if x >= 5 :\n",
    "    print('Greater than or Equals 5')\n",
    "if x < 6 : print('Less than 6') \n",
    "if x <= 5 :\n",
    "    print('Less than or Equals 5')\n",
    "if x != 6 :\n",
    "    print('Not equal 6')"
   ]
  },
  {
   "cell_type": "markdown",
   "id": "42213127",
   "metadata": {},
   "source": [
    "# Nested"
   ]
  },
  {
   "cell_type": "code",
   "execution_count": 4,
   "id": "76957dcb",
   "metadata": {},
   "outputs": [
    {
     "name": "stdout",
     "output_type": "stream",
     "text": [
      "More than one\n",
      "Less than 100\n",
      "All done\n"
     ]
    }
   ],
   "source": [
    "if x > 1 :\n",
    "    print('More than one')\n",
    "if x < 100 : \n",
    "    print('Less than 100') \n",
    "    print('All done')"
   ]
  },
  {
   "cell_type": "markdown",
   "id": "519b6184",
   "metadata": {},
   "source": [
    "# Multi-way"
   ]
  },
  {
   "cell_type": "code",
   "execution_count": 5,
   "id": "86b2486b",
   "metadata": {},
   "outputs": [
    {
     "name": "stdout",
     "output_type": "stream",
     "text": [
      "LARGE\n",
      "All done\n"
     ]
    }
   ],
   "source": [
    "x = 20\n",
    "if x < 2 :\n",
    "    print('small')\n",
    "elif x < 10 :\n",
    "    print('Medium')\n",
    "else :\n",
    "    print('LARGE')\n",
    "print('All done')"
   ]
  },
  {
   "cell_type": "markdown",
   "id": "8534c2bd",
   "metadata": {},
   "source": [
    "# try / except"
   ]
  },
  {
   "cell_type": "code",
   "execution_count": 7,
   "id": "1554ee42",
   "metadata": {},
   "outputs": [
    {
     "name": "stdout",
     "output_type": "stream",
     "text": [
      "Hello\n",
      "Done -1\n"
     ]
    }
   ],
   "source": [
    "astr = 'Bob'\n",
    "try:\n",
    "    print('Hello') \n",
    "    istr = int(astr)\n",
    "    print('There') \n",
    "except:\n",
    "    istr = -1\n",
    "    print('Done', istr)"
   ]
  },
  {
   "cell_type": "code",
   "execution_count": null,
   "id": "29dc3202",
   "metadata": {},
   "outputs": [],
   "source": []
  }
 ],
 "metadata": {
  "kernelspec": {
   "display_name": "Python 3 (ipykernel)",
   "language": "python",
   "name": "python3"
  },
  "language_info": {
   "codemirror_mode": {
    "name": "ipython",
    "version": 3
   },
   "file_extension": ".py",
   "mimetype": "text/x-python",
   "name": "python",
   "nbconvert_exporter": "python",
   "pygments_lexer": "ipython3",
   "version": "3.11.4"
  }
 },
 "nbformat": 4,
 "nbformat_minor": 5
}
