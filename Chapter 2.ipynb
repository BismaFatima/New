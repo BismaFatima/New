{
 "cells": [
  {
   "cell_type": "markdown",
   "id": "6b65b04d",
   "metadata": {},
   "source": [
    "# Constants"
   ]
  },
  {
   "cell_type": "code",
   "execution_count": 3,
   "id": "a060a459",
   "metadata": {},
   "outputs": [
    {
     "name": "stdout",
     "output_type": "stream",
     "text": [
      "Hello world\n"
     ]
    }
   ],
   "source": [
    "print('Hello world')"
   ]
  },
  {
   "cell_type": "code",
   "execution_count": 2,
   "id": "89f47882",
   "metadata": {},
   "outputs": [
    {
     "name": "stdout",
     "output_type": "stream",
     "text": [
      "123\n"
     ]
    }
   ],
   "source": [
    "print(123)"
   ]
  },
  {
   "cell_type": "markdown",
   "id": "33896872",
   "metadata": {},
   "source": [
    "# Mnemonic Variable Names"
   ]
  },
  {
   "cell_type": "code",
   "execution_count": 6,
   "id": "ed85b2eb",
   "metadata": {},
   "outputs": [
    {
     "name": "stdout",
     "output_type": "stream",
     "text": [
      "437.5\n"
     ]
    }
   ],
   "source": [
    "hours = 35.0 \n",
    "rate = 12.50 \n",
    "pay = hours * rate \n",
    "print(pay)"
   ]
  },
  {
   "cell_type": "markdown",
   "id": "9c957c36",
   "metadata": {},
   "source": [
    "# Assignment Statements"
   ]
  },
  {
   "cell_type": "code",
   "execution_count": 10,
   "id": "f568b86a",
   "metadata": {
    "scrolled": true
   },
   "outputs": [
    {
     "name": "stdout",
     "output_type": "stream",
     "text": [
      "-7.8\n"
     ]
    }
   ],
   "source": [
    "x = 2\n",
    "int(x)\n",
    "x = 3.9 * x * ( 1 - x )\n",
    "print (x)"
   ]
  },
  {
   "cell_type": "markdown",
   "id": "c9d65101",
   "metadata": {},
   "source": [
    "# Numeric Expressions"
   ]
  },
  {
   "cell_type": "code",
   "execution_count": 11,
   "id": "a4ad8020",
   "metadata": {},
   "outputs": [
    {
     "name": "stdout",
     "output_type": "stream",
     "text": [
      "3\n"
     ]
    }
   ],
   "source": [
    "jj = 23\n",
    "kk = jj % 5\n",
    "print(kk)"
   ]
  },
  {
   "cell_type": "code",
   "execution_count": 12,
   "id": "61f72a46",
   "metadata": {},
   "outputs": [
    {
     "name": "stdout",
     "output_type": "stream",
     "text": [
      "64\n"
     ]
    }
   ],
   "source": [
    "print(4 ** 3)"
   ]
  },
  {
   "cell_type": "code",
   "execution_count": 16,
   "id": "3fe72246",
   "metadata": {},
   "outputs": [
    {
     "name": "stdout",
     "output_type": "stream",
     "text": [
      "5.28\n"
     ]
    }
   ],
   "source": [
    "yy = 440 * 12\n",
    "zz = yy / 1000\n",
    "print(zz)"
   ]
  },
  {
   "cell_type": "markdown",
   "id": "3e85da5f",
   "metadata": {},
   "source": [
    "# Type"
   ]
  },
  {
   "cell_type": "code",
   "execution_count": 17,
   "id": "cf2db54c",
   "metadata": {},
   "outputs": [
    {
     "name": "stdout",
     "output_type": "stream",
     "text": [
      "5\n"
     ]
    }
   ],
   "source": [
    "ddd = 1 + 4\n",
    "print(ddd)"
   ]
  },
  {
   "cell_type": "code",
   "execution_count": 18,
   "id": "8c80b523",
   "metadata": {},
   "outputs": [
    {
     "name": "stdout",
     "output_type": "stream",
     "text": [
      "hello there\n"
     ]
    }
   ],
   "source": [
    "eee = 'hello ' + 'there'\n",
    "print(eee)"
   ]
  },
  {
   "cell_type": "code",
   "execution_count": 19,
   "id": "2451a8c3",
   "metadata": {},
   "outputs": [
    {
     "data": {
      "text/plain": [
       "str"
      ]
     },
     "execution_count": 19,
     "metadata": {},
     "output_type": "execute_result"
    }
   ],
   "source": [
    "type(eee)"
   ]
  },
  {
   "cell_type": "markdown",
   "id": "9584f100",
   "metadata": {},
   "source": [
    "# Type Conversions"
   ]
  },
  {
   "cell_type": "code",
   "execution_count": 20,
   "id": "da5b6290",
   "metadata": {},
   "outputs": [
    {
     "name": "stdout",
     "output_type": "stream",
     "text": [
      "199.0\n"
     ]
    }
   ],
   "source": [
    "print(float(99) + 100)"
   ]
  },
  {
   "cell_type": "code",
   "execution_count": 21,
   "id": "c61d7bef",
   "metadata": {},
   "outputs": [
    {
     "name": "stdout",
     "output_type": "stream",
     "text": [
      "42.0\n"
     ]
    }
   ],
   "source": [
    "i = 42\n",
    "type(i)\n",
    "f = float(i)\n",
    "print(f)"
   ]
  },
  {
   "cell_type": "code",
   "execution_count": 22,
   "id": "82c39b53",
   "metadata": {},
   "outputs": [
    {
     "data": {
      "text/plain": [
       "float"
      ]
     },
     "execution_count": 22,
     "metadata": {},
     "output_type": "execute_result"
    }
   ],
   "source": [
    "type(f)"
   ]
  },
  {
   "cell_type": "markdown",
   "id": "7f46fc56",
   "metadata": {},
   "source": [
    "# Integer Division"
   ]
  },
  {
   "cell_type": "code",
   "execution_count": 23,
   "id": "2d947714",
   "metadata": {},
   "outputs": [
    {
     "name": "stdout",
     "output_type": "stream",
     "text": [
      "4.5\n"
     ]
    }
   ],
   "source": [
    "print(9 / 2)"
   ]
  },
  {
   "cell_type": "markdown",
   "id": "42e99e36",
   "metadata": {},
   "source": [
    "# String Conversions"
   ]
  },
  {
   "cell_type": "code",
   "execution_count": 26,
   "id": "b59c0090",
   "metadata": {},
   "outputs": [
    {
     "data": {
      "text/plain": [
       "int"
      ]
     },
     "execution_count": 26,
     "metadata": {},
     "output_type": "execute_result"
    }
   ],
   "source": [
    "sval = '123'\n",
    "type(sval)\n",
    "ival = int(sval)\n",
    "type(ival)"
   ]
  },
  {
   "cell_type": "markdown",
   "id": "a2c6e3fc",
   "metadata": {},
   "source": [
    "# User Input\n"
   ]
  },
  {
   "cell_type": "code",
   "execution_count": 28,
   "id": "c66ba7ea",
   "metadata": {},
   "outputs": [
    {
     "name": "stdout",
     "output_type": "stream",
     "text": [
      "Who are you? Bisma\n",
      "Welcome Bisma\n"
     ]
    }
   ],
   "source": [
    "name = input('Who are you? ')\n",
    "print('Welcome', name)"
   ]
  },
  {
   "cell_type": "markdown",
   "id": "061167e9",
   "metadata": {},
   "source": [
    "# Converting User Input\n"
   ]
  },
  {
   "cell_type": "code",
   "execution_count": 29,
   "id": "c33294c2",
   "metadata": {},
   "outputs": [
    {
     "name": "stdout",
     "output_type": "stream",
     "text": [
      "Europe floor?1\n",
      "US floor 2\n"
     ]
    }
   ],
   "source": [
    "inp = input('Europe floor?')\n",
    "usf = int(inp) + 1\n",
    "print('US floor', usf)"
   ]
  },
  {
   "cell_type": "code",
   "execution_count": null,
   "id": "9868088a",
   "metadata": {},
   "outputs": [],
   "source": []
  }
 ],
 "metadata": {
  "kernelspec": {
   "display_name": "Python 3 (ipykernel)",
   "language": "python",
   "name": "python3"
  },
  "language_info": {
   "codemirror_mode": {
    "name": "ipython",
    "version": 3
   },
   "file_extension": ".py",
   "mimetype": "text/x-python",
   "name": "python",
   "nbconvert_exporter": "python",
   "pygments_lexer": "ipython3",
   "version": "3.11.4"
  }
 },
 "nbformat": 4,
 "nbformat_minor": 5
}
